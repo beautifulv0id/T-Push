{
 "cells": [
  {
   "cell_type": "code",
   "execution_count": 3,
   "metadata": {},
   "outputs": [],
   "source": [
    "from typing import Tuple, Sequence, Dict, Union, Optional, Callable\n",
    "import zarr\n",
    "import collections\n",
    "\n",
    "\n",
    "import numpy as np\n",
    "import torch\n",
    "import os\n",
    "import matplotlib.pyplot as plt\n",
    "from torchvision.ops import FeaturePyramidNetwork\n",
    "from utils.clip import load_clip\n",
    "import einops\n",
    "import torch.nn as nn\n",
    "import torch.nn.functional as F\n",
    "from utils.layers import RelativeCrossAttentionModule\n",
    "from models.conditional_unet1d import ConditionalUnet1D\n",
    "from utils.position_encodings import SinusoidalPosEmb\n",
    "from diffusers.schedulers.scheduling_ddpm import DDPMScheduler\n",
    "from utils.position_encodings import RotaryPositionEncoding, RotaryPositionEncoding3D, RotaryPositionEncoding2D\n",
    "from tqdm.auto import tqdm\n",
    "import copy\n",
    "import matplotlib.pyplot as plt\n",
    "\n",
    "# env import\n",
    "import gym\n",
    "from gym import spaces\n",
    "import pygame\n",
    "import pymunk\n",
    "import pymunk.pygame_util\n",
    "from pymunk.space_debug_draw_options import SpaceDebugColor\n",
    "from pymunk.vec2d import Vec2d\n",
    "import shapely.geometry as sg\n",
    "import cv2\n",
    "import skimage.transform as st\n",
    "from skvideo.io import vwrite\n",
    "from IPython.display import Video\n",
    "import gdown\n",
    "import os\n",
    "\n",
    "from utils.environment import PushTImageEnv\n",
    "from utils.dataset import PushTImageDataset, unnormalize_data, normalize_data"
   ]
  },
  {
   "cell_type": "code",
   "execution_count": 2,
   "metadata": {},
   "outputs": [
    {
     "name": "stdout",
     "output_type": "stream",
     "text": [
      "obs['image'].shape: (3, 96, 96) float32, [0,1]\n",
      "obs['agent_pos'].shape: (2,) float32, [0,512]\n",
      "obs['goal_pose'].shape: (3,) float32, [0,512]\n",
      "action.shape:  (2,) float32, [0,512]\n",
      "obs['tee_mask'].shape: (96, 96) uint8, {0,1}\n",
      "obs['goal_mask'].shape: (96, 96) uint8, {0,1}\n",
      "obs['agent_mask'].shape: (96, 96) uint8, {0,1}\n"
     ]
    }
   ],
   "source": [
    "# 0. create env object\n",
    "env = PushTImageEnv()\n",
    "\n",
    "# 1. seed env for initial state.\n",
    "# Seed 0-200 are used for the demonstration dataset.\n",
    "env.seed(1000)\n",
    "\n",
    "# 2. must reset before use\n",
    "obs, info = env.reset()\n",
    "\n",
    "# 3. 2D positional action space [0,512]\n",
    "action = env.action_space.sample()\n",
    "\n",
    "# 4. Standard gym step method\n",
    "obs, reward, terminated, truncated, info = env.step(action)\n",
    "\n",
    "# prints and explains each dimension of the observation and action vectors\n",
    "with np.printoptions(precision=4, suppress=True, threshold=5):\n",
    "    print(\"obs['image'].shape:\", obs['image'].shape, \"float32, [0,1]\")\n",
    "    print(\"obs['agent_pos'].shape:\", obs['agent_pos'].shape, \"float32, [0,512]\")\n",
    "    print(\"obs['goal_pose'].shape:\", obs['goal_pose'].shape, \"float32, [0,512]\")\n",
    "    print(\"action.shape: \", action.shape, \"float32, [0,512]\")\n",
    "    print(\"obs['tee_mask'].shape:\", obs['tee_mask'].shape, \"uint8, {0,1}\")\n",
    "    print(\"obs['goal_mask'].shape:\", obs['goal_mask'].shape, \"uint8, {0,1}\")\n",
    "    print(\"obs['agent_mask'].shape:\", obs['agent_mask'].shape, \"uint8, {0,1}\")"
   ]
  },
  {
   "cell_type": "code",
   "execution_count": 4,
   "metadata": {},
   "outputs": [
    {
     "name": "stdout",
     "output_type": "stream",
     "text": [
      "batch['image'].shape: torch.Size([64, 2, 3, 96, 96])\n",
      "batch['agent_pos'].shape: torch.Size([64, 2, 2])\n",
      "batch['action'].shape torch.Size([64, 16, 2])\n"
     ]
    }
   ],
   "source": [
    "#@markdown ### **Dataset Demo**\n",
    "\n",
    "# download demonstration data from Google Drive\n",
    "dataset_path = \"../data/pusht_cchi_v7_replay.zarr.zip\"\n",
    "if not os.path.isfile(dataset_path):\n",
    "    id = \"1KY1InLurpMvJDRb14L9NlXT_fEsCvVUq&confirm=t\"\n",
    "    gdown.download(id=id, output=dataset_path, quiet=False)\n",
    "\n",
    "# parameters\n",
    "pred_horizon = 16\n",
    "obs_horizon = 2\n",
    "action_horizon = 8\n",
    "#|o|o|                             observations: 2\n",
    "#| |a|a|a|a|a|a|a|a|               actions executed: 8\n",
    "#|p|p|p|p|p|p|p|p|p|p|p|p|p|p|p|p| actions predicted: 16\n",
    "\n",
    "# create dataset from file\n",
    "dataset = PushTImageDataset(\n",
    "    dataset_path=dataset_path,\n",
    "    pred_horizon=pred_horizon,\n",
    "    obs_horizon=obs_horizon,\n",
    "    action_horizon=action_horizon\n",
    ")\n",
    "# save training data statistics (min, max) for each dim\n",
    "stats = dataset.stats\n",
    "\n",
    "# create dataloader\n",
    "dataloader = torch.utils.data.DataLoader(\n",
    "    dataset,\n",
    "    batch_size=64,\n",
    "    num_workers=4,\n",
    "    shuffle=True,\n",
    "    # accelerate cpu-gpu transfer\n",
    "    pin_memory=True,\n",
    "    # don't kill worker process afte each epoch\n",
    "    persistent_workers=True\n",
    ")\n",
    "\n",
    "# visualize data in batch\n",
    "batch = next(iter(dataloader))\n",
    "print(\"batch['image'].shape:\", batch['image'].shape)\n",
    "print(\"batch['agent_pos'].shape:\", batch['agent_pos'].shape)\n",
    "print(\"batch['action'].shape\", batch['action'].shape)"
   ]
  },
  {
   "cell_type": "code",
   "execution_count": 5,
   "metadata": {},
   "outputs": [
    {
     "name": "stdout",
     "output_type": "stream",
     "text": [
      "overfit_batch['image'].shape: torch.Size([64, 2, 3, 96, 96])\n",
      "overfit_batch['agent_pos'].shape: torch.Size([64, 2, 2])\n",
      "overfit_batch['action'].shape torch.Size([64, 16, 2])\n",
      "overfit_batch['image'].max(): tensor(1.)\n",
      "overfit_batch['image'].min(): tensor(-0.4902)\n",
      "overfit_batch['agent_pos'].max(): tensor(-0.3731)\n",
      "overfit_batch['agent_pos'].min(): tensor(-0.6173)\n",
      "overfit_batch['action'].max(): tensor(-0.3945)\n",
      "overfit_batch['action'].min(): tensor(-0.6445)\n"
     ]
    }
   ],
   "source": [
    "overfit_batch = next(iter(dataloader))\n",
    "overfit_batch = {k: torch.stack([v[0] for i in range(v.shape[0])]) for k, v in overfit_batch.items()}\n",
    "overfit_batch['image'] = overfit_batch['image']\n",
    "print(\"overfit_batch['image'].shape:\", overfit_batch['image'].shape)\n",
    "print(\"overfit_batch['agent_pos'].shape:\", overfit_batch['agent_pos'].shape)\n",
    "print(\"overfit_batch['action'].shape\", overfit_batch['action'].shape)\n",
    "\n",
    "print(\"overfit_batch['image'].max():\", overfit_batch['image'].max())\n",
    "print(\"overfit_batch['image'].min():\", overfit_batch['image'].min())\n",
    "print(\"overfit_batch['agent_pos'].max():\", overfit_batch['agent_pos'].max())\n",
    "print(\"overfit_batch['agent_pos'].min():\", overfit_batch['agent_pos'].min())\n",
    "print(\"overfit_batch['action'].max():\", overfit_batch['action'].max())\n",
    "print(\"overfit_batch['action'].min():\", overfit_batch['action'].min())"
   ]
  },
  {
   "cell_type": "code",
   "execution_count": 10,
   "metadata": {},
   "outputs": [
    {
     "name": "stderr",
     "output_type": "stream",
     "text": [
      "Epoch:  50%|█████     | 5/10 [04:43<04:42, 56.45s/it, loss=0.0011] "
     ]
    }
   ],
   "source": [
    "from models.ema_model import EMAModel\n",
    "from diffusers.optimization import get_scheduler\n",
    "from policy.diffusion_transformer_image import DiffusionTransformerImage\n",
    "\n",
    "num_epochs = 10\n",
    "embedding_dim = 60\n",
    "action_dim = 2\n",
    "device = torch.device('cuda')\n",
    "num_diffusion_iters = 100\n",
    "noise_scheduler = DDPMScheduler(\n",
    "    num_train_timesteps=num_diffusion_iters,\n",
    "    # the choise of beta schedule has big impact on performance\n",
    "    # we found squared cosine works the best\n",
    "    beta_schedule='squaredcos_cap_v2',\n",
    "    # clip output to [-1,1] to improve stability\n",
    "    clip_sample=True,\n",
    "    # our network predicts noise (instead of denoised action)\n",
    "    prediction_type='epsilon'\n",
    ")\n",
    "obs_horizon = 2\n",
    "model = DiffusionTransformerImage(action_dim=action_dim,\n",
    "                                obs_horizon=obs_horizon,\n",
    "                                pred_horizon=pred_horizon,\n",
    "                                noise_scheduler=noise_scheduler,\n",
    "                                vis_backbone='clip',\n",
    "                                re_cross_attn_layer_within=5,\n",
    "                                re_cross_attn_num_heads_within=5,\n",
    "                                re_cross_attn_layer_across=5,\n",
    "                                re_cross_attn_num_heads_across=5,\n",
    "                                kernel_size=5,\n",
    "                                cond_predict_scale=True,\n",
    "                                embedding_dim=embedding_dim,\n",
    "                                device='cuda')\n",
    "model = model.to(device)\n",
    "\n",
    "ema_model = copy.deepcopy(model)\n",
    "_ = model.to(device)\n",
    "_ = ema_model.to(device)\n",
    "ema = EMAModel(ema_model)\n",
    "\n",
    "\n",
    "optimizer = torch.optim.AdamW(\n",
    "    params=model.parameters(),\n",
    "    lr=1e-4, weight_decay=1e-6)\n",
    "\n",
    "lr_scheduler = get_scheduler(\n",
    "    name='cosine',\n",
    "    optimizer=optimizer,\n",
    "    num_warmup_steps=500,\n",
    "    num_training_steps=len(dataloader) * num_epochs\n",
    ")\n",
    "\n",
    "\n",
    "with tqdm(range(num_epochs), desc='Epoch') as tglobal:\n",
    "    losses = list()\n",
    "    for epoch_idx in tglobal:\n",
    "        epoch_loss = list()\n",
    "        # batch loop\n",
    "        with tqdm(dataloader, desc='Batch', leave=False) as tepoch:\n",
    "            for item in tepoch:\n",
    "                item = overfit_batch\n",
    "                loss = model.compute_loss(item)\n",
    "                loss.backward()\n",
    "                optimizer.step()\n",
    "                optimizer.zero_grad()\n",
    "                # step lr scheduler every batch\n",
    "                # this is different from standard pytorch behavior\n",
    "                lr_scheduler.step()\n",
    "\n",
    "                # update Exponential Moving Average of the model weights\n",
    "                ema.step(model)\n",
    "\n",
    "                # logging\n",
    "                loss_cpu = loss.item()\n",
    "                epoch_loss.append(loss_cpu)\n",
    "                tepoch.set_postfix(loss=loss_cpu)\n",
    "        epoch_loss = np.mean(epoch_loss)\n",
    "        losses.append(epoch_loss)\n",
    "        tglobal.set_postfix(loss=epoch_loss)\n",
    "\n",
    "ema_model = ema.averaged_model"
   ]
  },
  {
   "cell_type": "code",
   "execution_count": 8,
   "metadata": {},
   "outputs": [
    {
     "name": "stderr",
     "output_type": "stream",
     "text": [
      "WARNING:matplotlib.image:Clipping input data to the valid range for imshow with RGB data ([0..1] for floats or [0..255] for integers).\n"
     ]
    },
    {
     "name": "stdout",
     "output_type": "stream",
     "text": [
      "pred - action:  [[ 40.789482   22.408432 ]\n",
      " [ 35.499786   -1.7770691]\n",
      " [-64.473854  -43.9287   ]\n",
      " [ 19.237587   40.30545  ]\n",
      " [-71.37442    47.00435  ]\n",
      " [ 21.955109   49.44185  ]\n",
      " [-71.58504   -43.837585 ]\n",
      " [-74.56192   -37.652893 ]\n",
      " [-38.69196    53.56685  ]\n",
      " [-74.390656    6.1463165]\n",
      " [ -9.455704   58.06685  ]\n",
      " [-23.09085   -18.34235  ]\n",
      " [-67.81676    -8.553989 ]\n",
      " [-73.06192    39.379463 ]\n",
      " [-72.87442    -2.5041275]\n",
      " [-72.68692    59.578964 ]]\n",
      "pred - action:  1364.0415\n"
     ]
    },
    {
     "data": {
      "image/png": "[encoded data removed]",
      "text/plain": [
       "<Figure size 1000x1000 with 1 Axes>"
      ]
     },
     "metadata": {},
     "output_type": "display_data"
    }
   ],
   "source": [
    "model.eval()\n",
    "ema_model = ema.averaged_model\n",
    "ema_model.eval()\n",
    "with torch.no_grad():\n",
    "    pred = ema_model.predict_action(overfit_batch)\n",
    "    loss = ema_model.compute_loss(overfit_batch)\n",
    "    pred = pred.cpu().numpy()\n",
    "    action = overfit_batch['action'].cpu().numpy()\n",
    "    agent_pos = overfit_batch['agent_pos'].cpu().numpy()\n",
    "\n",
    "\n",
    "img = overfit_batch['image'][0,-1].numpy().transpose(1,2,0) \n",
    "pred = unnormalize_data(pred[0], stats['action']) / 512 * 96\n",
    "action = unnormalize_data(action[0], stats['action']) / 512 * 96\n",
    "print(\"pred - action: \", pred - action)\n",
    "print(\"pred - action: \", np.abs(pred - action).sum())\n",
    "\n",
    "plt.figure(figsize=(10, 10))\n",
    "plt.imshow(img * 255)\n",
    "plt.scatter(pred[:,0], pred[:,1], c='r', s=20, label='prediction')\n",
    "plt.scatter(action[:,0], action[:,1], c='g', s=10, label='gt')\n",
    "plt.show()"
   ]
  },
  {
   "cell_type": "code",
   "execution_count": 8,
   "metadata": {},
   "outputs": [
    {
     "name": "stdout",
     "output_type": "stream",
     "text": [
      "Pretrained weights loaded.\n"
     ]
    }
   ],
   "source": [
    "load_pretrained = True\n",
    "if load_pretrained:\n",
    "  import wandb\n",
    "  id = \"k3get0hm\"\n",
    "  file_dir = os.path.join(\"wandb\", id)\n",
    "  os.makedirs(file_dir, exist_ok=True)\n",
    "  ckptn = wandb.restore('best_model.ckpt', 'felix-herrmann/T-Push/k3get0hm', root=file_dir).name\n",
    "  ckpt = torch.load(ckptn)\n",
    "  start_epoch = ckpt['epoch_idx'] + 1\n",
    "  model.load_state_dict(ckpt['model'])\n",
    "  model = model.to(device)\n",
    "  best_loss = ckpt['loss']\n",
    "  ema_model.load_state_dict(ckpt['ema_model'])\n",
    "  ema_model = ema_model.to(device)\n",
    "  optimizer.load_state_dict(ckpt['optimizer'])\n",
    "  lr_scheduler.load_state_dict(ckpt['lr_scheduler'])\n",
    "  print('Pretrained weights loaded.')\n",
    "else:\n",
    "  print(\"Skipped pretrained weight loading.\")"
   ]
  },
  {
   "cell_type": "code",
   "execution_count": 10,
   "metadata": {},
   "outputs": [],
   "source": [
    "if not load_pretrained:\n",
    "    plt.plot(losses)\n",
    "    plt.xlabel('Epochs')\n",
    "    plt.ylabel('Loss')\n",
    "    plt.title('Training loss')\n",
    "    plt.show()"
   ]
  },
  {
   "cell_type": "code",
   "execution_count": 9,
   "metadata": {},
   "outputs": [
    {
     "name": "stderr",
     "output_type": "stream",
     "text": [
      "Eval PushTImageEnv:   0%|          | 0/200 [00:00<?, ?it/s]"
     ]
    },
    {
     "name": "stderr",
     "output_type": "stream",
     "text": [
      "Eval PushTImageEnv: 201it [00:33,  5.97it/s, reward=0]                         "
     ]
    },
    {
     "name": "stdout",
     "output_type": "stream",
     "text": [
      "Score:  0.0\n"
     ]
    },
    {
     "name": "stderr",
     "output_type": "stream",
     "text": [
      "\n"
     ]
    },
    {
     "data": {
      "text/html": [
       "<video controls  width=\"256\"  height=\"256\">\n",
       " <source src=\"data:video/mp4;base64,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\" type=\"video/mp4\">\n",
       " Your browser does not support the video tag.\n",
       " </video>"
      ],
      "text/plain": [
       "<IPython.core.display.Video object>"
      ]
     },
     "execution_count": 9,
     "metadata": {},
     "output_type": "execute_result"
    }
   ],
   "source": [
    "# limit enviornment interaction to 200 steps before termination\n",
    "max_steps = 200\n",
    "env = PushTImageEnv()\n",
    "# use a seed >200 to avoid initial states seen in the training dataset\n",
    "env.seed(10000)\n",
    "\n",
    "# get first observation\n",
    "obs, info = env.reset()\n",
    "\n",
    "# keep a queue of last 2 steps of observations\n",
    "obs_deque = collections.deque(\n",
    "    [obs] * obs_horizon, maxlen=obs_horizon)\n",
    "# save visualization and rewards\n",
    "imgs = [env.render(mode='rgb_array')]\n",
    "rewards = list()\n",
    "done = False\n",
    "step_idx = 0\n",
    "\n",
    "with tqdm(total=max_steps, desc=\"Eval PushTImageEnv\") as pbar:\n",
    "    while not done:\n",
    "        B = 1\n",
    "        images = np.stack([x['image'] for x in obs_deque])\n",
    "        agent_poses = np.stack([x['agent_pos'] for x in obs_deque])\n",
    "\n",
    "        # normalize observation\n",
    "        nagent_poses = normalize_data(agent_poses, stats=stats['agent_pos'])\n",
    "        # images are already normalized to [0,1]\n",
    "        # nimages = (images * 2 - 1).astype(np.float32)\n",
    "        nimages = images.astype(np.float32)\n",
    "\n",
    "        # device transfer\n",
    "        nimages = torch.from_numpy(nimages).to(device, dtype=torch.float32).unsqueeze(0)\n",
    "        # (1,2,3,96,96)\n",
    "        nagent_poses = torch.from_numpy(nagent_poses).to(device, dtype=torch.float32).unsqueeze(0)\n",
    "        # (1,2,2)\n",
    "        \n",
    "        obs_dict = {\n",
    "            'image': nimages,\n",
    "            'agent_pos': nagent_poses\n",
    "        }\n",
    "\n",
    "        # predict action\n",
    "        with torch.no_grad():\n",
    "            naction = ema_model.predict_action(obs_dict)\n",
    "            naction = naction.cpu().numpy()[0]\n",
    "        \n",
    "        action_pred = unnormalize_data(naction, stats['action'])\n",
    "\n",
    "        # only take action_horizon number of actions\n",
    "        start = obs_horizon - 1\n",
    "        end = start + action_horizon\n",
    "        action = action_pred[start:end,:]\n",
    "        # (action_horizon, action_dim)\n",
    "\n",
    "        for i in range(len(action)):\n",
    "            # stepping env\n",
    "            obs, reward, done, _, info = env.step(action[i])\n",
    "            # save observations\n",
    "            obs_deque.append(obs)\n",
    "            # and reward/vis\n",
    "            rewards.append(reward)\n",
    "            imgs.append(env.render(mode='rgb_array'))\n",
    "\n",
    "            # update progress bar\n",
    "            step_idx += 1\n",
    "            pbar.update(1)\n",
    "            pbar.set_postfix(reward=reward)\n",
    "            if step_idx > max_steps:\n",
    "                done = True\n",
    "            if done:\n",
    "                break\n",
    "\n",
    "# print out the maximum target coverage\n",
    "print('Score: ', max(rewards))\n",
    "\n",
    "# visualize\n",
    "from IPython.display import Video\n",
    "vwrite('vis.mp4', imgs)\n",
    "Video('vis.mp4', embed=True, width=256, height=256)"
   ]
  }
 ],
 "metadata": {
  "kernelspec": {
   "display_name": "tshape",
   "language": "python",
   "name": "python3"
  },
  "language_info": {
   "codemirror_mode": {
    "name": "ipython",
    "version": 3
   },
   "file_extension": ".py",
   "mimetype": "text/x-python",
   "name": "python",
   "nbconvert_exporter": "python",
   "pygments_lexer": "ipython3",
   "version": "3.9.18"
  }
 },
 "nbformat": 4,
 "nbformat_minor": 2
}
