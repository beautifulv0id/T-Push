{
 "cells": [
  {
   "cell_type": "code",
   "execution_count": 4,
   "metadata": {},
   "outputs": [],
   "source": [
    "from utils.layers import RelativeCrossAttentionModule\n",
    "import torch"
   ]
  },
  {
   "cell_type": "code",
   "execution_count": 37,
   "metadata": {},
   "outputs": [
    {
     "name": "stdout",
     "output_type": "stream",
     "text": [
      "len(out): 2\n",
      "out[n] corresponds to the n-th layer\n",
      "out[0].shape: torch.Size([1, 4, 60])\n",
      "out[1].shape: torch.Size([1, 4, 60])\n"
     ]
    }
   ],
   "source": [
    "embedding_dim = 60\n",
    "re_cross_attn = RelativeCrossAttentionModule(embedding_dim=embedding_dim, num_attn_heads=3, num_layers=2)\n",
    "\n",
    "\n",
    "query = torch.randn(1, 4, embedding_dim) # (target_sequence_length, batch_size, embedding_dim)\n",
    "value = torch.randn(5, 4, embedding_dim) # (source_sequence_length, batch_size, embedding_dim)\n",
    "query_pos = torch.randn(4, 1, embedding_dim, 2) # (batch_size, target_sequence_length, embedding_dim, 2)\n",
    "value_pos = torch.randn(4, 5, embedding_dim, 2) # (batch_size, source_sequence_length, embedding_dim, 2)\n",
    "\n",
    "out = re_cross_attn(query=query, value=value, query_pos=query_pos, value_pos=value_pos)\n",
    "print(\"len(out):\", len(out)) \n",
    "print(\"out[n] corresponds to the n-th layer\")\n",
    "print(\"out[0].shape:\", out[0].shape)\n",
    "print(\"out[1].shape:\", out[1].shape)"
   ]
  },
  {
   "cell_type": "code",
   "execution_count": null,
   "metadata": {},
   "outputs": [],
   "source": []
  }
 ],
 "metadata": {
  "kernelspec": {
   "display_name": "tshape",
   "language": "python",
   "name": "python3"
  },
  "language_info": {
   "codemirror_mode": {
    "name": "ipython",
    "version": 3
   },
   "file_extension": ".py",
   "mimetype": "text/x-python",
   "name": "python",
   "nbconvert_exporter": "python",
   "pygments_lexer": "ipython3",
   "version": "3.9.18"
  }
 },
 "nbformat": 4,
 "nbformat_minor": 2
}
