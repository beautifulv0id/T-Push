{
 "cells": [
  {
   "cell_type": "code",
   "execution_count": 4,
   "metadata": {},
   "outputs": [],
   "source": [
    "from utils.layers import RelativeCrossAttentionModule\n",
    "import torch"
   ]
  },
  {
   "cell_type": "code",
   "execution_count": 43,
   "metadata": {},
   "outputs": [
    {
     "name": "stdout",
     "output_type": "stream",
     "text": [
      "pred[n] corresponds to the n-th layer\n",
      "pred[-1].shape: torch.Size([2, 4, 60])\n"
     ]
    }
   ],
   "source": [
    "embedding_dim = 60\n",
    "re_cross_attn = RelativeCrossAttentionModule(embedding_dim=embedding_dim, num_attn_heads=3, num_layers=2)\n",
    "\n",
    "target_sequence_length = 2\n",
    "source_sequence_length = 5\n",
    "batch_size = 4\n",
    "\n",
    "query = torch.randn(target_sequence_length, batch_size, embedding_dim) # (target_sequence_length, batch_size, embedding_dim)\n",
    "value = torch.randn(source_sequence_length, batch_size, embedding_dim) # (source_sequence_length, batch_size, embedding_dim)\n",
    "query_pos = torch.randn(batch_size, target_sequence_length, embedding_dim, 2) # (batch_size, target_sequence_length, embedding_dim, 2)\n",
    "value_pos = torch.randn(batch_size, source_sequence_length, embedding_dim, 2) # (batch_size, source_sequence_length, embedding_dim, 2)\n",
    "\n",
    "pred = re_cross_attn(query=query, value=value, query_pos=query_pos, value_pos=value_pos)\n",
    "print(\"pred[n] corresponds to the n-th layer\")\n",
    "print(\"pred[-1].shape:\", pred[-1].shape)"
   ]
  },
  {
   "cell_type": "code",
   "execution_count": null,
   "metadata": {},
   "outputs": [],
   "source": []
  }
 ],
 "metadata": {
  "kernelspec": {
   "display_name": "tshape",
   "language": "python",
   "name": "python3"
  },
  "language_info": {
   "codemirror_mode": {
    "name": "ipython",
    "version": 3
   },
   "file_extension": ".py",
   "mimetype": "text/x-python",
   "name": "python",
   "nbconvert_exporter": "python",
   "pygments_lexer": "ipython3",
   "version": "3.9.18"
  }
 },
 "nbformat": 4,
 "nbformat_minor": 2
}
