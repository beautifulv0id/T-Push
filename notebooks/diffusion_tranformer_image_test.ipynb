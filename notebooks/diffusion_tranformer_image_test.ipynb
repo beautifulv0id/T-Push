{
 "cells": [
  {
   "cell_type": "code",
   "execution_count": 1,
   "metadata": {},
   "outputs": [
    {
     "name": "stderr",
     "output_type": "stream",
     "text": [
      "/home/stud_herrmann/.local/lib/python3.10/site-packages/tqdm/auto.py:21: TqdmWarning: IProgress not found. Please update jupyter and ipywidgets. See https://ipywidgets.readthedocs.io/en/stable/user_install.html\n",
      "  from .autonotebook import tqdm as notebook_tqdm\n"
     ]
    }
   ],
   "source": [
    "from policy.diffusion_transformer_image import DiffusionTransformerImage\n",
    "from diffusers import DDPMScheduler\n",
    "\n",
    "action_dim = 2\n",
    "num_train_timesteps = 100\n",
    "noise_scheduler = DDPMScheduler(num_train_timesteps=num_train_timesteps)\n",
    "model = DiffusionTransformerImage(action_dim=2,\n",
    "                                noise_scheduler=noise_scheduler,\n",
    "                                vis_backbone='clip',\n",
    "                                re_cross_attn_layer=2,\n",
    "                                re_cross_attn_num_heads=4,\n",
    "                                embedding_dim=60,\n",
    "                                device='cuda',\n",
    "                                num_noised_samples=1)"
   ]
  },
  {
   "cell_type": "code",
   "execution_count": 2,
   "metadata": {},
   "outputs": [
    {
     "name": "stdout",
     "output_type": "stream",
     "text": [
      "query torch.Size([1, 10, 60])\n",
      "query_pos torch.Size([10, 1, 60, 2])\n",
      "context_features torch.Size([576, 10, 60])\n",
      "context_pos torch.Size([10, 576, 60, 2])\n"
     ]
    },
    {
     "name": "stderr",
     "output_type": "stream",
     "text": [
      "/home/stud_herrmann/.local/lib/python3.10/site-packages/torch/functional.py:504: UserWarning: torch.meshgrid: in an upcoming release, it will be required to pass the indexing argument. (Triggered internally at ../aten/src/ATen/native/TensorShape.cpp:3190.)\n",
      "  return _VF.meshgrid(tensors, **kwargs)  # type: ignore[attr-defined]\n"
     ]
    },
    {
     "data": {
      "text/plain": [
       "tensor(0.0076, device='cuda:0', grad_fn=<MeanBackward0>)"
      ]
     },
     "execution_count": 2,
     "metadata": {},
     "output_type": "execute_result"
    }
   ],
   "source": [
    "import torch\n",
    "batch = dict()\n",
    "batch['rgb'] = torch.randn(10, 3, 96, 96).cuda()\n",
    "batch['agent_pos'] = torch.randn(10, 2).cuda()\n",
    "batch['goal_pos'] = torch.randn(10, 2).cuda()\n",
    "\n",
    "model.compute_loss(batch)"
   ]
  }
 ],
 "metadata": {
  "kernelspec": {
   "display_name": "tpush",
   "language": "python",
   "name": "python3"
  },
  "language_info": {
   "codemirror_mode": {
    "name": "ipython",
    "version": 3
   },
   "file_extension": ".py",
   "mimetype": "text/x-python",
   "name": "python",
   "nbconvert_exporter": "python",
   "pygments_lexer": "ipython3",
   "version": "3.10.0"
  }
 },
 "nbformat": 4,
 "nbformat_minor": 2
}
