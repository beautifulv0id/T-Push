{
 "cells": [
  {
   "cell_type": "code",
   "execution_count": 1,
   "metadata": {},
   "outputs": [
    {
     "name": "stderr",
     "output_type": "stream",
     "text": [
      "/home/stud_herrmann/.local/lib/python3.10/site-packages/tqdm/auto.py:21: TqdmWarning: IProgress not found. Please update jupyter and ipywidgets. See https://ipywidgets.readthedocs.io/en/stable/user_install.html\n",
      "  from .autonotebook import tqdm as notebook_tqdm\n"
     ]
    }
   ],
   "source": [
    "import numpy as np\n",
    "import torch\n",
    "import os\n",
    "import matplotlib.pyplot as plt\n",
    "from torchvision.ops import FeaturePyramidNetwork\n",
    "from utils.clip import load_clip\n",
    "import einops\n",
    "import torch.nn as nn\n",
    "import torch.nn.functional as F\n",
    "from utils.layers import RelativeCrossAttentionModule\n",
    "from models.conditional_unet1d import ConditionalUnet1D\n",
    "from utils.position_encodings import SinusoidalPosEmb\n",
    "from diffusers.schedulers.scheduling_ddpm import DDPMScheduler\n",
    "from utils.position_encodings import RotaryPositionEncoding, RotaryPositionEncoding3D, RotaryPositionEncoding2D\n",
    "from tqdm.auto import tqdm\n",
    "import copy\n",
    "import matplotlib.pyplot as plt\n"
   ]
  },
  {
   "cell_type": "code",
   "execution_count": 2,
   "metadata": {},
   "outputs": [],
   "source": [
    "class PushTDataset(torch.utils.data.Dataset):\n",
    "    def __init__(self, rgb, goal_mask, tee_mask, agent_mask, agent_pos, goal_pose):\n",
    "        self.rgb = rgb\n",
    "        self.target = goal_mask\n",
    "        self.tee_mask = tee_mask\n",
    "        self.agent_mask = agent_mask\n",
    "        self.agent_pos = agent_pos\n",
    "        self.goal_pose = goal_pose\n",
    "\n",
    "    def __getitem__(self, index):\n",
    "        item = {}\n",
    "        item['rgb'] = self.rgb[index]\n",
    "        item['goal_mask'] = self.target[index]\n",
    "        item['tee_mask'] = self.tee_mask[index]\n",
    "        item['agent_mask'] = self.agent_mask[index]\n",
    "        item['agent_pos'] = self.agent_pos[index]\n",
    "        item['goal_pose'] = self.goal_pose[index]\n",
    "        return item\n",
    "\n",
    "    def __len__(self):\n",
    "        return len(self.rgb)\n",
    "\n",
    "\n",
    "def get_loader(data_dir='../data/'):\n",
    "    files = os.listdir(data_dir)\n",
    "    files = [f for f in files if f.endswith('.npz')]\n",
    "\n",
    "    rgb = []\n",
    "    goal_mask = []\n",
    "    tee_mask = []\n",
    "    agent_mask = []\n",
    "    agent_pos = []\n",
    "    goal_pose = []\n",
    "\n",
    "    for f in files:\n",
    "        el = np.load(data_dir + f)\n",
    "        rgb.append(el['image'])\n",
    "        goal_mask.append(el['goal_mask'])\n",
    "        tee_mask.append(el['tee_mask'])\n",
    "        agent_mask.append(el['agent_mask'])\n",
    "        agent_pos.append(el['agent_pos'])\n",
    "        goal_pose.append(el['goal_pose'])\n",
    "\n",
    "    rgb = np.stack(rgb, axis=0)\n",
    "    goal_mask = np.stack(goal_mask, axis=0)\n",
    "    tee_mask = np.stack(tee_mask, axis=0)\n",
    "    agent_mask = np.stack(agent_mask, axis=0)\n",
    "    agent_pos = np.stack(agent_pos, axis=0)\n",
    "    goal_pose = np.stack(goal_pose, axis=0)\n",
    "\n",
    "    rgb = torch.from_numpy(rgb).float()\n",
    "    goal_mask = torch.from_numpy(goal_mask).float()\n",
    "    tee_mask = torch.from_numpy(tee_mask).float()\n",
    "    agent_mask = torch.from_numpy(agent_mask).float()\n",
    "    agent_pos = torch.from_numpy(agent_pos).float()\n",
    "    goal_pose = torch.from_numpy(goal_pose).float()\n",
    "    \n",
    "    dataset = PushTDataset(rgb, goal_mask, tee_mask, agent_mask, agent_pos, goal_pose)\n",
    "\n",
    "    return torch.utils.data.DataLoader(dataset, batch_size=32, shuffle=True)"
   ]
  },
  {
   "cell_type": "code",
   "execution_count": 3,
   "metadata": {},
   "outputs": [
    {
     "name": "stdout",
     "output_type": "stream",
     "text": [
      "item['rgb'].shape torch.Size([10, 3, 96, 96])\n",
      "item['goal_mask'].shape torch.Size([10, 96, 96])\n",
      "item['tee_mask'].shape torch.Size([10, 96, 96])\n",
      "item['agent_mask'].shape torch.Size([10, 96, 96])\n",
      "item['agent_pos'].shape torch.Size([10, 2])\n",
      "item['goal_pose'].shape torch.Size([10, 3])\n"
     ]
    }
   ],
   "source": [
    "train_loader = get_loader()\n",
    "\n",
    "item = next(iter(train_loader))\n",
    "\n",
    "print(\"item['rgb'].shape\", item['rgb'].shape)\n",
    "print(\"item['goal_mask'].shape\", item['goal_mask'].shape)\n",
    "print(\"item['tee_mask'].shape\", item['tee_mask'].shape)\n",
    "print(\"item['agent_mask'].shape\", item['agent_mask'].shape)\n",
    "print(\"item['agent_pos'].shape\", item['agent_pos'].shape)\n",
    "print(\"item['goal_pose'].shape\", item['goal_pose'].shape)\n"
   ]
  },
  {
   "cell_type": "code",
   "execution_count": 4,
   "metadata": {},
   "outputs": [
    {
     "name": "stderr",
     "output_type": "stream",
     "text": [
      "Epoch:   0%|          | 0/10 [00:00<?, ?it/s]/home/stud_herrmann/.local/lib/python3.10/site-packages/torch/functional.py:504: UserWarning: torch.meshgrid: in an upcoming release, it will be required to pass the indexing argument. (Triggered internally at ../aten/src/ATen/native/TensorShape.cpp:3190.)\n",
      "  return _VF.meshgrid(tensors, **kwargs)  # type: ignore[attr-defined]\n",
      "Epoch: 100%|██████████| 10/10 [00:01<00:00,  6.30it/s, loss=0.0107]\n"
     ]
    }
   ],
   "source": [
    "from models.ema_model import EMAModel\n",
    "from diffusers.optimization import get_scheduler\n",
    "from policy.diffusion_transformer_image import DiffusionTransformerImage\n",
    "\n",
    "num_epochs = 10\n",
    "embedding_dim = 60\n",
    "action_dim = 2\n",
    "num_noised_samples = 64\n",
    "device = torch.device('cuda')\n",
    "num_train_timesteps = 100\n",
    "num_diffusion_iters = 100\n",
    "noise_scheduler = DDPMScheduler(\n",
    "    num_train_timesteps=num_diffusion_iters,\n",
    "    # the choise of beta schedule has big impact on performance\n",
    "    # we found squared cosine works the best\n",
    "    beta_schedule='squaredcos_cap_v2',\n",
    "    # clip output to [-1,1] to improve stability\n",
    "    clip_sample=True,\n",
    "    # our network predicts noise (instead of denoised action)\n",
    "    prediction_type='epsilon'\n",
    ")\n",
    "obs_horizon = 2\n",
    "model = DiffusionTransformerImage(action_dim=2,\n",
    "                                obs_horizon=obs_horizon,\n",
    "                                noise_scheduler=noise_scheduler,\n",
    "                                vis_backbone='clip',\n",
    "                                re_cross_attn_layer=4,\n",
    "                                re_cross_attn_num_heads=3,\n",
    "                                embedding_dim=60,\n",
    "                                device='cuda')\n",
    "\n",
    "\n",
    "ema_model = copy.deepcopy(model)\n",
    "_ = model.to(device)\n",
    "_ = ema_model.to(device)\n",
    "ema = EMAModel(ema_model)\n",
    "\n",
    "num_diffusion_iters = 100\n",
    "\n",
    "optimizer = torch.optim.AdamW(\n",
    "    params=model.parameters(),\n",
    "    lr=1e-4, weight_decay=1e-6)\n",
    "\n",
    "lr_scheduler = get_scheduler(\n",
    "    name='cosine',\n",
    "    optimizer=optimizer,\n",
    "    num_warmup_steps=500,\n",
    "    num_training_steps=len(train_loader) * num_epochs\n",
    ")\n",
    "\n",
    "num_noised_samples = 10\n",
    "with tqdm(range(num_epochs), desc='Epoch') as tglobal:\n",
    "    losses = list()\n",
    "    for epoch_idx in tglobal:\n",
    "        epoch_loss = list()\n",
    "        # batch loop\n",
    "        with tqdm(train_loader, desc='Batch', leave=False) as tepoch:\n",
    "            for item in tepoch:\n",
    "                \n",
    "                item = {k: v.unsqueeze(1).repeat(num_noised_samples, 2, *([1] * (v.dim() - 1))).to(device) for k, v in item.items()}\n",
    "                # for k, v in item.items():\n",
    "                #     print(k, v.shape)\n",
    "                loss = model.compute_loss(item)\n",
    "                loss.backward()\n",
    "                optimizer.step()\n",
    "                optimizer.zero_grad()\n",
    "                # step lr scheduler every batch\n",
    "                # this is different from standard pytorch behavior\n",
    "                lr_scheduler.step()\n",
    "\n",
    "                # update Exponential Moving Average of the model weights\n",
    "                ema.step(model)\n",
    "\n",
    "                # logging\n",
    "                loss_cpu = loss.item()\n",
    "                epoch_loss.append(loss_cpu)\n",
    "                tepoch.set_postfix(loss=loss_cpu)\n",
    "        epoch_loss = np.mean(epoch_loss)\n",
    "        losses.append(epoch_loss)\n",
    "        tglobal.set_postfix(loss=epoch_loss)\n",
    "\n",
    "ema_model = ema.averaged_model"
   ]
  },
  {
   "cell_type": "code",
   "execution_count": 7,
   "metadata": {},
   "outputs": [
    {
     "data": {
      "image/png": "[encoded data removed]",
      "text/plain": [
       "<Figure size 640x480 with 1 Axes>"
      ]
     },
     "metadata": {},
     "output_type": "display_data"
    }
   ],
   "source": [
    "plt.plot(losses)\n",
    "plt.xlabel('Epochs')\n",
    "plt.ylabel('Loss')\n",
    "plt.title('Training loss')\n",
    "plt.yscale('log')\n",
    "plt.show()"
   ]
  },
  {
   "cell_type": "code",
   "execution_count": 8,
   "metadata": {},
   "outputs": [
    {
     "ename": "EinopsError",
     "evalue": " Error while processing rearrange-reduction pattern \"b t c h w -> (b t) c h w\".\n Input tensor shape: torch.Size([1, 3, 96, 96]). Additional info: {}.\n Wrong shape: expected 5 dims. Received 4-dim tensor.",
     "output_type": "error",
     "traceback": [
      "\u001b[0;31m---------------------------------------------------------------------------\u001b[0m",
      "\u001b[0;31mEinopsError\u001b[0m                               Traceback (most recent call last)",
      "File \u001b[0;32m~/miniconda3/envs/tpush/lib/python3.10/site-packages/einops/einops.py:522\u001b[0m, in \u001b[0;36mreduce\u001b[0;34m(tensor, pattern, reduction, **axes_lengths)\u001b[0m\n\u001b[1;32m    521\u001b[0m shape \u001b[38;5;241m=\u001b[39m backend\u001b[38;5;241m.\u001b[39mshape(tensor)\n\u001b[0;32m--> 522\u001b[0m recipe \u001b[38;5;241m=\u001b[39m \u001b[43m_prepare_transformation_recipe\u001b[49m\u001b[43m(\u001b[49m\u001b[43mpattern\u001b[49m\u001b[43m,\u001b[49m\u001b[43m \u001b[49m\u001b[43mreduction\u001b[49m\u001b[43m,\u001b[49m\u001b[43m \u001b[49m\u001b[43maxes_names\u001b[49m\u001b[38;5;241;43m=\u001b[39;49m\u001b[38;5;28;43mtuple\u001b[39;49m\u001b[43m(\u001b[49m\u001b[43maxes_lengths\u001b[49m\u001b[43m)\u001b[49m\u001b[43m,\u001b[49m\u001b[43m \u001b[49m\u001b[43mndim\u001b[49m\u001b[38;5;241;43m=\u001b[39;49m\u001b[38;5;28;43mlen\u001b[39;49m\u001b[43m(\u001b[49m\u001b[43mshape\u001b[49m\u001b[43m)\u001b[49m\u001b[43m)\u001b[49m\n\u001b[1;32m    523\u001b[0m \u001b[38;5;28;01mreturn\u001b[39;00m _apply_recipe(\n\u001b[1;32m    524\u001b[0m     backend, recipe, cast(Tensor, tensor), reduction_type\u001b[38;5;241m=\u001b[39mreduction, axes_lengths\u001b[38;5;241m=\u001b[39mhashable_axes_lengths\n\u001b[1;32m    525\u001b[0m )\n",
      "File \u001b[0;32m~/miniconda3/envs/tpush/lib/python3.10/site-packages/einops/einops.py:365\u001b[0m, in \u001b[0;36m_prepare_transformation_recipe\u001b[0;34m(pattern, operation, axes_names, ndim)\u001b[0m\n\u001b[1;32m    364\u001b[0m \u001b[38;5;28;01mif\u001b[39;00m ndim \u001b[38;5;241m!=\u001b[39m \u001b[38;5;28mlen\u001b[39m(left\u001b[38;5;241m.\u001b[39mcomposition):\n\u001b[0;32m--> 365\u001b[0m     \u001b[38;5;28;01mraise\u001b[39;00m EinopsError(\u001b[38;5;124mf\u001b[39m\u001b[38;5;124m\"\u001b[39m\u001b[38;5;124mWrong shape: expected \u001b[39m\u001b[38;5;132;01m{\u001b[39;00m\u001b[38;5;28mlen\u001b[39m(left\u001b[38;5;241m.\u001b[39mcomposition)\u001b[38;5;132;01m}\u001b[39;00m\u001b[38;5;124m dims. Received \u001b[39m\u001b[38;5;132;01m{\u001b[39;00mndim\u001b[38;5;132;01m}\u001b[39;00m\u001b[38;5;124m-dim tensor.\u001b[39m\u001b[38;5;124m\"\u001b[39m)\n\u001b[1;32m    366\u001b[0m left_composition \u001b[38;5;241m=\u001b[39m left\u001b[38;5;241m.\u001b[39mcomposition\n",
      "\u001b[0;31mEinopsError\u001b[0m: Wrong shape: expected 5 dims. Received 4-dim tensor.",
      "\nDuring handling of the above exception, another exception occurred:\n",
      "\u001b[0;31mEinopsError\u001b[0m                               Traceback (most recent call last)",
      "Cell \u001b[0;32mIn[8], line 4\u001b[0m\n\u001b[1;32m      2\u001b[0m item \u001b[38;5;241m=\u001b[39m {k: v[:\u001b[38;5;241m1\u001b[39m] \u001b[38;5;28;01mfor\u001b[39;00m k, v \u001b[38;5;129;01min\u001b[39;00m item\u001b[38;5;241m.\u001b[39mitems()}\n\u001b[1;32m      3\u001b[0m model\u001b[38;5;241m.\u001b[39meval()\n\u001b[0;32m----> 4\u001b[0m loss \u001b[38;5;241m=\u001b[39m \u001b[43mmodel\u001b[49m\u001b[38;5;241;43m.\u001b[39;49m\u001b[43mcompute_loss\u001b[49m\u001b[43m(\u001b[49m\u001b[43mitem\u001b[49m\u001b[43m)\u001b[49m\n\u001b[1;32m      5\u001b[0m out \u001b[38;5;241m=\u001b[39m model\u001b[38;5;241m.\u001b[39mpredict_action(item)\u001b[38;5;241m.\u001b[39mcpu()\u001b[38;5;241m.\u001b[39mdetach()\u001b[38;5;241m.\u001b[39mnumpy()\n\u001b[1;32m      6\u001b[0m fig \u001b[38;5;241m=\u001b[39m plt\u001b[38;5;241m.\u001b[39mfigure(figsize\u001b[38;5;241m=\u001b[39m(\u001b[38;5;241m20\u001b[39m, \u001b[38;5;241m5\u001b[39m))\n",
      "File \u001b[0;32m~/T-Push/policy/diffusion_transformer_image.py:187\u001b[0m, in \u001b[0;36mDiffusionTransformerImage.compute_loss\u001b[0;34m(self, batch)\u001b[0m\n\u001b[1;32m    184\u001b[0m nagent_pos \u001b[38;5;241m=\u001b[39m \u001b[38;5;28mself\u001b[39m\u001b[38;5;241m.\u001b[39mnormalize_pos(abs_agent_pos)\n\u001b[1;32m    185\u001b[0m ngoal_pos \u001b[38;5;241m=\u001b[39m \u001b[38;5;28mself\u001b[39m\u001b[38;5;241m.\u001b[39mnormalize_pos(abs_goal_pos)\n\u001b[0;32m--> 187\u001b[0m context_features, context_pos \u001b[38;5;241m=\u001b[39m \u001b[38;5;28;43mself\u001b[39;49m\u001b[38;5;241;43m.\u001b[39;49m\u001b[43mcompute_context_features\u001b[49m\u001b[43m(\u001b[49m\u001b[43mnrgb\u001b[49m\u001b[43m)\u001b[49m\n\u001b[1;32m    188\u001b[0m query, query_pos \u001b[38;5;241m=\u001b[39m \u001b[38;5;28mself\u001b[39m\u001b[38;5;241m.\u001b[39mcompute_query_features(nagent_pos)\n\u001b[1;32m    189\u001b[0m scene_embeddings \u001b[38;5;241m=\u001b[39m \u001b[38;5;28mself\u001b[39m\u001b[38;5;241m.\u001b[39mcompute_scene_embedding(context_features, context_pos, query, query_pos)\n",
      "File \u001b[0;32m~/T-Push/policy/diffusion_transformer_image.py:98\u001b[0m, in \u001b[0;36mDiffusionTransformerImage.compute_context_features\u001b[0;34m(self, rgb)\u001b[0m\n\u001b[1;32m     97\u001b[0m \u001b[38;5;28;01mdef\u001b[39;00m \u001b[38;5;21mcompute_context_features\u001b[39m(\u001b[38;5;28mself\u001b[39m, rgb):\n\u001b[0;32m---> 98\u001b[0m     rgb_features \u001b[38;5;241m=\u001b[39m \u001b[38;5;28;43mself\u001b[39;49m\u001b[38;5;241;43m.\u001b[39;49m\u001b[43mcompute_visual_features\u001b[49m\u001b[43m(\u001b[49m\u001b[43mrgb\u001b[49m\u001b[43m)\u001b[49m\n\u001b[1;32m     99\u001b[0m     \u001b[38;5;66;03m# (b, t, c, h, w)\u001b[39;00m\n\u001b[1;32m    100\u001b[0m     time_embed \u001b[38;5;241m=\u001b[39m \u001b[38;5;28mself\u001b[39m\u001b[38;5;241m.\u001b[39mtime_embedder(torch\u001b[38;5;241m.\u001b[39marange(\u001b[38;5;28mself\u001b[39m\u001b[38;5;241m.\u001b[39mobs_horizon)\u001b[38;5;241m.\u001b[39mto(\u001b[38;5;28mself\u001b[39m\u001b[38;5;241m.\u001b[39mdevice))\n",
      "File \u001b[0;32m~/T-Push/policy/diffusion_transformer_image.py:73\u001b[0m, in \u001b[0;36mDiffusionTransformerImage.compute_visual_features\u001b[0;34m(self, rgb, out_res)\u001b[0m\n\u001b[1;32m     72\u001b[0m \u001b[38;5;28;01mdef\u001b[39;00m \u001b[38;5;21mcompute_visual_features\u001b[39m(\u001b[38;5;28mself\u001b[39m, rgb, out_res\u001b[38;5;241m=\u001b[39m[\u001b[38;5;241m24\u001b[39m, \u001b[38;5;241m24\u001b[39m]):\n\u001b[0;32m---> 73\u001b[0m     rgb \u001b[38;5;241m=\u001b[39m \u001b[43meinops\u001b[49m\u001b[38;5;241;43m.\u001b[39;49m\u001b[43mrearrange\u001b[49m\u001b[43m(\u001b[49m\u001b[43mrgb\u001b[49m\u001b[43m,\u001b[49m\u001b[43m \u001b[49m\u001b[38;5;124;43m'\u001b[39;49m\u001b[38;5;124;43mb t c h w -> (b t) c h w\u001b[39;49m\u001b[38;5;124;43m'\u001b[39;49m\u001b[43m)\u001b[49m\n\u001b[1;32m     74\u001b[0m     \u001b[38;5;28;01mwith\u001b[39;00m torch\u001b[38;5;241m.\u001b[39mno_grad():\n\u001b[1;32m     75\u001b[0m         \u001b[38;5;28;01mif\u001b[39;00m out_res \u001b[38;5;241m==\u001b[39m [\u001b[38;5;241m24\u001b[39m, \u001b[38;5;241m24\u001b[39m]:\n",
      "File \u001b[0;32m~/miniconda3/envs/tpush/lib/python3.10/site-packages/einops/einops.py:591\u001b[0m, in \u001b[0;36mrearrange\u001b[0;34m(tensor, pattern, **axes_lengths)\u001b[0m\n\u001b[1;32m    536\u001b[0m \u001b[38;5;28;01mdef\u001b[39;00m \u001b[38;5;21mrearrange\u001b[39m(tensor: Union[Tensor, List[Tensor]], pattern: \u001b[38;5;28mstr\u001b[39m, \u001b[38;5;241m*\u001b[39m\u001b[38;5;241m*\u001b[39maxes_lengths) \u001b[38;5;241m-\u001b[39m\u001b[38;5;241m>\u001b[39m Tensor:\n\u001b[1;32m    537\u001b[0m \u001b[38;5;250m    \u001b[39m\u001b[38;5;124;03m\"\"\"\u001b[39;00m\n\u001b[1;32m    538\u001b[0m \u001b[38;5;124;03m    einops.rearrange is a reader-friendly smart element reordering for multidimensional tensors.\u001b[39;00m\n\u001b[1;32m    539\u001b[0m \u001b[38;5;124;03m    This operation includes functionality of transpose (axes permutation), reshape (view), squeeze, unsqueeze,\u001b[39;00m\n\u001b[0;32m   (...)\u001b[0m\n\u001b[1;32m    589\u001b[0m \n\u001b[1;32m    590\u001b[0m \u001b[38;5;124;03m    \"\"\"\u001b[39;00m\n\u001b[0;32m--> 591\u001b[0m     \u001b[38;5;28;01mreturn\u001b[39;00m \u001b[43mreduce\u001b[49m\u001b[43m(\u001b[49m\u001b[43mtensor\u001b[49m\u001b[43m,\u001b[49m\u001b[43m \u001b[49m\u001b[43mpattern\u001b[49m\u001b[43m,\u001b[49m\u001b[43m \u001b[49m\u001b[43mreduction\u001b[49m\u001b[38;5;241;43m=\u001b[39;49m\u001b[38;5;124;43m\"\u001b[39;49m\u001b[38;5;124;43mrearrange\u001b[39;49m\u001b[38;5;124;43m\"\u001b[39;49m\u001b[43m,\u001b[49m\u001b[43m \u001b[49m\u001b[38;5;241;43m*\u001b[39;49m\u001b[38;5;241;43m*\u001b[39;49m\u001b[43maxes_lengths\u001b[49m\u001b[43m)\u001b[49m\n",
      "File \u001b[0;32m~/miniconda3/envs/tpush/lib/python3.10/site-packages/einops/einops.py:533\u001b[0m, in \u001b[0;36mreduce\u001b[0;34m(tensor, pattern, reduction, **axes_lengths)\u001b[0m\n\u001b[1;32m    531\u001b[0m     message \u001b[38;5;241m+\u001b[39m\u001b[38;5;241m=\u001b[39m \u001b[38;5;124m\"\u001b[39m\u001b[38;5;130;01m\\n\u001b[39;00m\u001b[38;5;124m Input is list. \u001b[39m\u001b[38;5;124m\"\u001b[39m\n\u001b[1;32m    532\u001b[0m message \u001b[38;5;241m+\u001b[39m\u001b[38;5;241m=\u001b[39m \u001b[38;5;124m\"\u001b[39m\u001b[38;5;124mAdditional info: \u001b[39m\u001b[38;5;132;01m{}\u001b[39;00m\u001b[38;5;124m.\u001b[39m\u001b[38;5;124m\"\u001b[39m\u001b[38;5;241m.\u001b[39mformat(axes_lengths)\n\u001b[0;32m--> 533\u001b[0m \u001b[38;5;28;01mraise\u001b[39;00m EinopsError(message \u001b[38;5;241m+\u001b[39m \u001b[38;5;124m\"\u001b[39m\u001b[38;5;130;01m\\n\u001b[39;00m\u001b[38;5;124m \u001b[39m\u001b[38;5;132;01m{}\u001b[39;00m\u001b[38;5;124m\"\u001b[39m\u001b[38;5;241m.\u001b[39mformat(e))\n",
      "\u001b[0;31mEinopsError\u001b[0m:  Error while processing rearrange-reduction pattern \"b t c h w -> (b t) c h w\".\n Input tensor shape: torch.Size([1, 3, 96, 96]). Additional info: {}.\n Wrong shape: expected 5 dims. Received 4-dim tensor."
     ]
    }
   ],
   "source": [
    "item = next(iter(train_loader))\n",
    "item = {k: v[:1] for k, v in item.items()}\n",
    "model.eval()\n",
    "loss = model.compute_loss(item)\n",
    "out = model.predict_action(item).cpu().detach().numpy()\n",
    "fig = plt.figure(figsize=(20, 5))\n",
    "for i, goal_pos_pred in enumerate(out[:9]):\n",
    "    goal_pos_pred_image = goal_pos_pred / 512.0 * 96.\n",
    "    goal_pos_image = item['goal_pose'][i] / 512.0 * 96.\n",
    "    ax = fig.add_subplot(3, 3, i + 1)\n",
    "    ax.imshow(item['rgb'][i].permute(1, 2, 0).cpu().numpy())\n",
    "    ax.scatter(goal_pos_image[0], goal_pos_image[1], c='r', label='ground truth')\n",
    "    ax.scatter(goal_pos_pred_image[0], goal_pos_pred_image[1], c='b', marker='x', label='predicted')\n",
    "    ax.legend()\n",
    "plt.show() "
   ]
  },
  {
   "cell_type": "code",
   "execution_count": null,
   "metadata": {},
   "outputs": [
    {
     "data": {
      "image/png": "[encoded data removed]",
      "text/plain": [
       "<Figure size 2000x500 with 1 Axes>"
      ]
     },
     "metadata": {},
     "output_type": "display_data"
    }
   ],
   "source": [
    "item = next(iter(train_loader))\n",
    "item = {k: v[:1] for k, v in item.items()}\n",
    "model.eval()\n",
    "loss = model.compute_loss(item)\n",
    "out = model.predict_action(item).cpu().detach().numpy()\n",
    "fig = plt.figure(figsize=(20, 5))\n",
    "for i, goal_pos_pred in enumerate(out[:9]):\n",
    "    goal_pos_pred_image = goal_pos_pred / 512.0 * 96.\n",
    "    goal_pos_image = item['goal_pose'][i] / 512.0 * 96.\n",
    "    ax = fig.add_subplot(3, 3, i + 1)\n",
    "    ax.imshow(item['rgb'][i].permute(1, 2, 0).cpu().numpy())\n",
    "    ax.scatter(goal_pos_image[0], goal_pos_image[1], c='r', label='ground truth')\n",
    "    ax.scatter(goal_pos_pred_image[0], goal_pos_pred_image[1], c='b', marker='x', label='predicted')\n",
    "    ax.legend()\n",
    "plt.show() "
   ]
  },
  {
   "cell_type": "code",
   "execution_count": null,
   "metadata": {},
   "outputs": [
    {
     "ename": "NameError",
     "evalue": "name 'B' is not defined",
     "output_type": "error",
     "traceback": [
      "\u001b[0;31m---------------------------------------------------------------------------\u001b[0m",
      "\u001b[0;31mNameError\u001b[0m                                 Traceback (most recent call last)",
      "Cell \u001b[0;32mIn[10], line 5\u001b[0m\n\u001b[1;32m      1\u001b[0m ema_nets \u001b[38;5;241m=\u001b[39m ema\u001b[38;5;241m.\u001b[39maveraged_model\n\u001b[1;32m      2\u001b[0m item \u001b[38;5;241m=\u001b[39m \u001b[38;5;28mnext\u001b[39m(\u001b[38;5;28miter\u001b[39m(train_loader))\n\u001b[1;32m      4\u001b[0m noisy_action \u001b[38;5;241m=\u001b[39m torch\u001b[38;5;241m.\u001b[39mrandn(\n\u001b[0;32m----> 5\u001b[0m     (\u001b[43mB\u001b[49m, action_dim), device\u001b[38;5;241m=\u001b[39mdevice)\n\u001b[1;32m      6\u001b[0m naction \u001b[38;5;241m=\u001b[39m noisy_action\n\u001b[1;32m      8\u001b[0m noise_scheduler\u001b[38;5;241m.\u001b[39mset_timesteps(num_inference_steps\u001b[38;5;241m=\u001b[39mnum_diffusion_iters, device\u001b[38;5;241m=\u001b[39mdevice)\n",
      "\u001b[0;31mNameError\u001b[0m: name 'B' is not defined"
     ]
    }
   ],
   "source": [
    "ema_nets = ema.averaged_model\n",
    "item = next(iter(train_loader))\n",
    "\n",
    "noisy_action = torch.randn(\n",
    "    (B, action_dim), device=device)\n",
    "naction = noisy_action\n",
    "\n",
    "noise_scheduler.set_timesteps(num_inference_steps=num_diffusion_iters, device=device)\n",
    "\n",
    "with torch.no_grad():\n",
    "    for k in noise_scheduler.timesteps:\n",
    "        noise_pred = ema_nets['noise_pred_net'](\n",
    "                            sample=naction,\n",
    "                            timestep=k,\n",
    "                            global_cond=scene_embedding\n",
    "                        )\n",
    "                        # inverse diffusion step (remove noise)\n",
    "        naction = noise_scheduler.step(\n",
    "            model_output=noise_pred,\n",
    "            timestep=k,\n",
    "            sample=naction\n",
    "        ).prev_sample\n",
    "\n",
    "naction = unnormalize_position(naction.cpu())[0]\n",
    "goal_pos_pred_image = (naction + item['agent_pos'][0]) / 512. * 96.\n",
    "goal_pos_image = item['goal_pose'][0] / 512. * 96.\n",
    "plt.imshow(item['rgb'][0].permute(1, 2, 0).cpu().numpy())\n",
    "plt.scatter(goal_pos_image[0], goal_pos_image[1], c='r', label='ground truth')\n",
    "plt.scatter(goal_pos_pred_image[0], goal_pos_pred_image[1], c='b', marker='x', label='predicted')\n",
    "plt.legend()\n",
    "plt.show() "
   ]
  }
 ],
 "metadata": {
  "kernelspec": {
   "display_name": "tshape",
   "language": "python",
   "name": "python3"
  },
  "language_info": {
   "codemirror_mode": {
    "name": "ipython",
    "version": 3
   },
   "file_extension": ".py",
   "mimetype": "text/x-python",
   "name": "python",
   "nbconvert_exporter": "python",
   "pygments_lexer": "ipython3",
   "version": "3.10.0"
  }
 },
 "nbformat": 4,
 "nbformat_minor": 2
}
