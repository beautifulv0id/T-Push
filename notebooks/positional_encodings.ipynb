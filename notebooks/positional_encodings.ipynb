{
 "cells": [
  {
   "cell_type": "code",
   "execution_count": 2,
   "metadata": {},
   "outputs": [
    {
     "name": "stdout",
     "output_type": "stream",
     "text": [
      "torch.dot(e1[0,0], e1[0,1]) tensor(-5.1811)\n",
      "torch.dot(e2[0,0], e2[0,1]) tensor(-5.1811)\n",
      "d1 == d1 True\n"
     ]
    },
    {
     "name": "stderr",
     "output_type": "stream",
     "text": [
      "/home/felix/miniforge3/envs/tshape/lib/python3.9/site-packages/tqdm/auto.py:21: TqdmWarning: IProgress not found. Please update jupyter and ipywidgets. See https://ipywidgets.readthedocs.io/en/stable/user_install.html\n",
      "  from .autonotebook import tqdm as notebook_tqdm\n"
     ]
    }
   ],
   "source": [
    "from utils.position_encodings import RotaryPositionEncoding, RotaryPositionEncoding3D, RotaryPositionEncoding2D\n",
    "import torch\n",
    "\n",
    "pos_enc_dim = 64 # has to be even\n",
    "vision_feature_dim = 64\n",
    "\n",
    "positional_encoder = RotaryPositionEncoding2D(feature_dim=pos_enc_dim)\n",
    "\n",
    "xy = torch.rand(1, 2, 2)\n",
    "xy_rel_enc = positional_encoder(xy)\n",
    "\n",
    "vis_embeddings = torch.randn(1, 2, vision_feature_dim)\n",
    "\n",
    "e1 = RotaryPositionEncoding.embed_rotary(vis_embeddings, xy_rel_enc[..., 0], xy_rel_enc[..., 1])\n",
    "d1 = torch.dot(e1[0,0], e1[0,1])\n",
    "print(\"torch.dot(e1[0,0], e1[0,1])\", d1)\n",
    "\n",
    "\n",
    "xy = xy + 10.\n",
    "xy_rel_enc = positional_encoder(xy)\n",
    "e2 = RotaryPositionEncoding.embed_rotary(vis_embeddings, xy_rel_enc[..., 0], xy_rel_enc[..., 1])\n",
    "d2 = torch.dot(e2[0,0], e2[0,1])\n",
    "print(\"torch.dot(e2[0,0], e2[0,1])\", d2)\n",
    "print(\"d1 == d1\", torch.allclose(d1, d2))"
   ]
  },
  {
   "cell_type": "code",
   "execution_count": 3,
   "metadata": {},
   "outputs": [
    {
     "name": "stdout",
     "output_type": "stream",
     "text": [
      "xy_rel_enc.shape torch.Size([1, 2, 60, 2])\n",
      "torch.dot(e1[0,0], e1[0,1]) tensor(5.2609)\n",
      "torch.dot(e2[0,0], e2[0,1]) tensor(5.2609)\n",
      "d1 == d1 True\n"
     ]
    }
   ],
   "source": [
    "pos_enc_dim = 60 # has to be divisible by 3\n",
    "vision_feature_dim = 60\n",
    "\n",
    "positional_encoder = RotaryPositionEncoding3D(feature_dim=pos_enc_dim)\n",
    "\n",
    "xy = torch.rand(1, 2, 3)\n",
    "xy_rel_enc = positional_encoder(xy)\n",
    "print(\"xy_rel_enc.shape\", xy_rel_enc.shape)\n",
    "\n",
    "vis_embeddings = torch.randn(1, 2, vision_feature_dim)\n",
    "\n",
    "e1 = RotaryPositionEncoding.embed_rotary(vis_embeddings, xy_rel_enc[..., 0], xy_rel_enc[..., 1])\n",
    "d1 = torch.dot(e1[0,0], e1[0,1])\n",
    "print(\"torch.dot(e1[0,0], e1[0,1])\", d1)\n",
    "\n",
    "\n",
    "xy = xy + 10.\n",
    "xy_rel_enc = positional_encoder(xy)\n",
    "e2 = RotaryPositionEncoding.embed_rotary(vis_embeddings, xy_rel_enc[..., 0], xy_rel_enc[..., 1])\n",
    "d2 = torch.dot(e2[0,0], e2[0,1])\n",
    "print(\"torch.dot(e2[0,0], e2[0,1])\", d2)\n",
    "print(\"d1 == d1\", torch.allclose(d1, d2))"
   ]
  }
 ],
 "metadata": {
  "kernelspec": {
   "display_name": "tshape",
   "language": "python",
   "name": "python3"
  },
  "language_info": {
   "codemirror_mode": {
    "name": "ipython",
    "version": 3
   },
   "file_extension": ".py",
   "mimetype": "text/x-python",
   "name": "python",
   "nbconvert_exporter": "python",
   "pygments_lexer": "ipython3",
   "version": "3.9.18"
  }
 },
 "nbformat": 4,
 "nbformat_minor": 2
}
