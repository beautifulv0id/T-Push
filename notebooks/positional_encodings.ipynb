{
 "cells": [
  {
   "cell_type": "code",
   "execution_count": 30,
   "metadata": {},
   "outputs": [
    {
     "name": "stdout",
     "output_type": "stream",
     "text": [
      "torch.dot(e1[0,0], e1[0,1]) tensor(-2.6563)\n",
      "torch.dot(e2[0,0], e2[0,1]) tensor(-2.6563)\n",
      "d1 == d1 True\n"
     ]
    }
   ],
   "source": [
    "from utils.position_encodings import RotaryPositionEncoding, RotaryPositionEncoding3D, RotaryPositionEncoding2D\n",
    "import torch\n",
    "\n",
    "pos_enc_dim = 64 # has to be even\n",
    "vision_feature_dim = 64\n",
    "\n",
    "positional_encoder = RotaryPositionEncoding2D(feature_dim=pos_enc_dim)\n",
    "\n",
    "xy = torch.rand(1, 2, 2)\n",
    "xy_rel_enc = positional_encoder(xy)\n",
    "\n",
    "vis_embeddings = torch.randn(1, 2, vision_feature_dim)\n",
    "\n",
    "e1 = RotaryPositionEncoding.embed_rotary(vis_embeddings, xy_rel_enc[..., 0], xy_rel_enc[..., 1])\n",
    "d1 = torch.dot(e1[0,0], e1[0,1])\n",
    "print(\"torch.dot(e1[0,0], e1[0,1])\", d1)\n",
    "\n",
    "\n",
    "xy = xy + 10.\n",
    "xy_rel_enc = positional_encoder(xy)\n",
    "e2 = RotaryPositionEncoding.embed_rotary(vis_embeddings, xy_rel_enc[..., 0], xy_rel_enc[..., 1])\n",
    "d2 = torch.dot(e2[0,0], e2[0,1])\n",
    "print(\"torch.dot(e2[0,0], e2[0,1])\", d2)\n",
    "print(\"d1 == d1\", torch.allclose(d1, d2))"
   ]
  },
  {
   "cell_type": "code",
   "execution_count": 31,
   "metadata": {},
   "outputs": [
    {
     "name": "stdout",
     "output_type": "stream",
     "text": [
      "torch.dot(e1[0,0], e1[0,1]) tensor(-17.3574)\n",
      "torch.dot(e2[0,0], e2[0,1]) tensor(-17.3574)\n",
      "d1 == d1 True\n"
     ]
    }
   ],
   "source": [
    "pos_enc_dim = 60 # has to be divisible by 3\n",
    "vision_feature_dim = 60\n",
    "\n",
    "positional_encoder = RotaryPositionEncoding3D(feature_dim=pos_enc_dim)\n",
    "\n",
    "xy = torch.rand(1, 2, 3)\n",
    "xy_rel_enc = positional_encoder(xy)\n",
    "\n",
    "vis_embeddings = torch.randn(1, 2, vision_feature_dim)\n",
    "\n",
    "e1 = RotaryPositionEncoding.embed_rotary(vis_embeddings, xy_rel_enc[..., 0], xy_rel_enc[..., 1])\n",
    "d1 = torch.dot(e1[0,0], e1[0,1])\n",
    "print(\"torch.dot(e1[0,0], e1[0,1])\", d1)\n",
    "\n",
    "\n",
    "xy = xy + 10.\n",
    "xy_rel_enc = positional_encoder(xy)\n",
    "e2 = RotaryPositionEncoding.embed_rotary(vis_embeddings, xy_rel_enc[..., 0], xy_rel_enc[..., 1])\n",
    "d2 = torch.dot(e2[0,0], e2[0,1])\n",
    "print(\"torch.dot(e2[0,0], e2[0,1])\", d2)\n",
    "print(\"d1 == d1\", torch.allclose(d1, d2))"
   ]
  }
 ],
 "metadata": {
  "kernelspec": {
   "display_name": "tshape",
   "language": "python",
   "name": "python3"
  },
  "language_info": {
   "codemirror_mode": {
    "name": "ipython",
    "version": 3
   },
   "file_extension": ".py",
   "mimetype": "text/x-python",
   "name": "python",
   "nbconvert_exporter": "python",
   "pygments_lexer": "ipython3",
   "version": "3.9.18"
  }
 },
 "nbformat": 4,
 "nbformat_minor": 2
}
