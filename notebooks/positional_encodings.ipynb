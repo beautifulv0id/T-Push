{
 "cells": [
  {
   "cell_type": "code",
   "execution_count": 1,
   "metadata": {},
   "outputs": [
    {
     "name": "stderr",
     "output_type": "stream",
     "text": [
      "/home/felix/miniforge3/envs/tshape/lib/python3.9/site-packages/tqdm/auto.py:21: TqdmWarning: IProgress not found. Please update jupyter and ipywidgets. See https://ipywidgets.readthedocs.io/en/stable/user_install.html\n",
      "  from .autonotebook import tqdm as notebook_tqdm\n"
     ]
    }
   ],
   "source": [
    "from utils.position_encodings import SinusoidalPosEmb, RotaryPositionEncoding, RotaryPositionEncoding3D\n",
    "import torch"
   ]
  },
  {
   "cell_type": "code",
   "execution_count": 14,
   "metadata": {},
   "outputs": [],
   "source": [
    "from torch import nn\n",
    "import math\n",
    "\n",
    "class RotaryPositionEncoding(nn.Module):\n",
    "    def __init__(self, feature_dim, pe_type='Rotary1D'):\n",
    "        super().__init__()\n",
    "\n",
    "        self.feature_dim = feature_dim\n",
    "        self.pe_type = pe_type\n",
    "\n",
    "    @staticmethod\n",
    "    def embed_rotary(x, cos, sin):\n",
    "        x2 = torch.stack([-x[..., 1::2], x[..., ::2]], dim=-1).reshape_as(x).contiguous()\n",
    "        x = x * cos + x2 * sin\n",
    "        return x\n",
    "\n",
    "    def forward(self, x_position):\n",
    "        bsize, npoint = x_position.shape\n",
    "        div_term = torch.exp(\n",
    "            torch.arange(0, self.feature_dim, 2, dtype=torch.float, device=x_position.device)\n",
    "            * (-math.log(10000.0) / (self.feature_dim)))\n",
    "        div_term = div_term.view(1, 1, -1) # [1, 1, d]\n",
    "\n",
    "        sinx = torch.sin(x_position * div_term)  # [B, N, d]\n",
    "        cosx = torch.cos(x_position * div_term)\n",
    "\n",
    "        sin_pos, cos_pos = map(\n",
    "            lambda feat: torch.stack([feat, feat], dim=-1).view(bsize, npoint, -1),\n",
    "            [sinx, cosx]\n",
    "        )\n",
    "        position_code = torch.stack([cos_pos, sin_pos] , dim=-1)\n",
    "\n",
    "        if position_code.requires_grad:\n",
    "            position_code = position_code.detach()\n",
    "\n",
    "        return position_code"
   ]
  },
  {
   "cell_type": "code",
   "execution_count": 22,
   "metadata": {},
   "outputs": [
    {
     "name": "stdout",
     "output_type": "stream",
     "text": [
      "xy_enc.shape: torch.Size([128, 1, 128, 2])\n",
      "q_embed.shape: torch.Size([128, 128, 128])\n"
     ]
    }
   ],
   "source": [
    "xy = torch.randn(128, 1)\n",
    "pos_enc = RotaryPositionEncoding(128) # has to be devisible by 2\n",
    "xy_enc = pos_enc(xy)\n",
    "print(\"xy_enc.shape:\", xy_enc.shape)\n",
    "q_cos = xy_enc[...,0]\n",
    "q_sin = xy_enc[...,1]\n",
    "query = torch.randn(128, 128)\n",
    "q_embed = RotaryPositionEncoding.embed_rotary(query, q_cos, q_sin)\n",
    "print(\"q_embed.shape:\", q_embed.shape)"
   ]
  },
  {
   "cell_type": "code",
   "execution_count": 2,
   "metadata": {},
   "outputs": [
    {
     "name": "stdout",
     "output_type": "stream",
     "text": [
      "xyz_enc.shape: torch.Size([2, 128, 60, 2])\n",
      "q_embed.shape: torch.Size([2, 128, 60])\n"
     ]
    }
   ],
   "source": [
    "\n",
    "xyz = torch.randn(2, 128, 3)\n",
    "pos_enc = RotaryPositionEncoding3D(60) # has to be devisible by 6\n",
    "xyz_enc = pos_enc(xyz)\n",
    "print(\"xyz_enc.shape:\", xyz_enc.shape)\n",
    "q_cos = xyz_enc[...,0]\n",
    "q_sin = xyz_enc[...,1]\n",
    "query = torch.randn(2, 128, 60)\n",
    "q_embed = RotaryPositionEncoding.embed_rotary(query, q_cos, q_sin)\n",
    "print(\"q_embed.shape:\", q_embed.shape)"
   ]
  }
 ],
 "metadata": {
  "kernelspec": {
   "display_name": "tshape",
   "language": "python",
   "name": "python3"
  },
  "language_info": {
   "codemirror_mode": {
    "name": "ipython",
    "version": 3
   },
   "file_extension": ".py",
   "mimetype": "text/x-python",
   "name": "python",
   "nbconvert_exporter": "python",
   "pygments_lexer": "ipython3",
   "version": "3.9.18"
  }
 },
 "nbformat": 4,
 "nbformat_minor": 2
}
