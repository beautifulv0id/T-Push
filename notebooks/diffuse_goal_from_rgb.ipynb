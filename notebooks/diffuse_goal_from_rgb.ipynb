{
 "cells": [
  {
   "cell_type": "code",
   "execution_count": 1,
   "metadata": {},
   "outputs": [
    {
     "name": "stderr",
     "output_type": "stream",
     "text": [
      "/home/stud_herrmann/.local/lib/python3.10/site-packages/tqdm/auto.py:21: TqdmWarning: IProgress not found. Please update jupyter and ipywidgets. See https://ipywidgets.readthedocs.io/en/stable/user_install.html\n",
      "  from .autonotebook import tqdm as notebook_tqdm\n"
     ]
    }
   ],
   "source": [
    "import numpy as np\n",
    "import torch\n",
    "import os\n",
    "import matplotlib.pyplot as plt\n",
    "from torchvision.ops import FeaturePyramidNetwork\n",
    "from utils.clip import load_clip\n",
    "import einops\n",
    "import torch.nn as nn\n",
    "import torch.nn.functional as F\n",
    "from utils.layers import RelativeCrossAttentionModule\n",
    "from models.conditional_unet1d import ConditionalUnet1D\n",
    "from utils.position_encodings import SinusoidalPosEmb\n",
    "from diffusers.schedulers.scheduling_ddpm import DDPMScheduler\n",
    "from utils.position_encodings import RotaryPositionEncoding, RotaryPositionEncoding3D, RotaryPositionEncoding2D\n",
    "from tqdm.auto import tqdm\n",
    "import copy\n",
    "import matplotlib.pyplot as plt\n"
   ]
  },
  {
   "cell_type": "code",
   "execution_count": 2,
   "metadata": {},
   "outputs": [],
   "source": [
    "class PushTDataset(torch.utils.data.Dataset):\n",
    "    def __init__(self, rgb, goal_mask, tee_mask, agent_mask, agent_pos, goal_pose):\n",
    "        self.rgb = rgb\n",
    "        self.target = goal_mask\n",
    "        self.tee_mask = tee_mask\n",
    "        self.agent_mask = agent_mask\n",
    "        self.agent_pos = agent_pos\n",
    "        self.goal_pose = goal_pose\n",
    "\n",
    "    def __getitem__(self, index):\n",
    "        item = {}\n",
    "        item['rgb'] = self.rgb[index]\n",
    "        item['goal_mask'] = self.target[index]\n",
    "        item['tee_mask'] = self.tee_mask[index]\n",
    "        item['agent_mask'] = self.agent_mask[index]\n",
    "        item['agent_pos'] = self.agent_pos[index]\n",
    "        item['goal_pose'] = self.goal_pose[index]\n",
    "        return item\n",
    "\n",
    "    def __len__(self):\n",
    "        return len(self.rgb)\n",
    "\n",
    "\n",
    "def get_loader(data_dir='../data/'):\n",
    "    files = os.listdir(data_dir)\n",
    "    files = [f for f in files if f.endswith('.npz')]\n",
    "    files = [files[0]]\n",
    "    rgb = []\n",
    "    goal_mask = []\n",
    "    tee_mask = []\n",
    "    agent_mask = []\n",
    "    agent_pos = []\n",
    "    goal_pose = []\n",
    "\n",
    "    for f in files:\n",
    "        el = np.load(data_dir + f)\n",
    "        rgb.append(el['image'])\n",
    "        goal_mask.append(el['goal_mask'])\n",
    "        tee_mask.append(el['tee_mask'])\n",
    "        agent_mask.append(el['agent_mask'])\n",
    "        agent_pos.append(el['agent_pos'])\n",
    "        goal_pose.append(el['goal_pose'])\n",
    "\n",
    "    rgb = np.stack(rgb, axis=0)\n",
    "    goal_mask = np.stack(goal_mask, axis=0)\n",
    "    tee_mask = np.stack(tee_mask, axis=0)\n",
    "    agent_mask = np.stack(agent_mask, axis=0)\n",
    "    agent_pos = np.stack(agent_pos, axis=0)\n",
    "    goal_pose = np.stack(goal_pose, axis=0)\n",
    "\n",
    "    rgb = torch.from_numpy(rgb).float()\n",
    "    goal_mask = torch.from_numpy(goal_mask).float()\n",
    "    tee_mask = torch.from_numpy(tee_mask).float()\n",
    "    agent_mask = torch.from_numpy(agent_mask).float()\n",
    "    agent_pos = torch.from_numpy(agent_pos).float()\n",
    "    goal_pose = torch.from_numpy(goal_pose).float()\n",
    "    \n",
    "    dataset = PushTDataset(rgb, goal_mask, tee_mask, agent_mask, agent_pos, goal_pose)\n",
    "\n",
    "    return torch.utils.data.DataLoader(dataset, batch_size=32, shuffle=True)"
   ]
  },
  {
   "cell_type": "code",
   "execution_count": 3,
   "metadata": {},
   "outputs": [
    {
     "name": "stdout",
     "output_type": "stream",
     "text": [
      "item['rgb'].shape torch.Size([1, 3, 96, 96])\n",
      "item['goal_mask'].shape torch.Size([1, 96, 96])\n",
      "item['tee_mask'].shape torch.Size([1, 96, 96])\n",
      "item['agent_mask'].shape torch.Size([1, 96, 96])\n",
      "item['agent_pos'].shape torch.Size([1, 2])\n",
      "item['goal_pose'].shape torch.Size([1, 3])\n"
     ]
    }
   ],
   "source": [
    "train_loader = get_loader()\n",
    "\n",
    "item = next(iter(train_loader))\n",
    "\n",
    "print(\"item['rgb'].shape\", item['rgb'].shape)\n",
    "print(\"item['goal_mask'].shape\", item['goal_mask'].shape)\n",
    "print(\"item['tee_mask'].shape\", item['tee_mask'].shape)\n",
    "print(\"item['agent_mask'].shape\", item['agent_mask'].shape)\n",
    "print(\"item['agent_pos'].shape\", item['agent_pos'].shape)\n",
    "print(\"item['goal_pose'].shape\", item['goal_pose'].shape)\n"
   ]
  },
  {
   "cell_type": "code",
   "execution_count": 4,
   "metadata": {},
   "outputs": [],
   "source": [
    "def compute_visual_features(model, linear, images, out_res=[24, 24]):\n",
    "    with torch.no_grad():\n",
    "        if out_res == [24, 24]:\n",
    "            img_features = model(images)[\"res2\"]\n",
    "        elif out_res == [48, 48]:\n",
    "            img_features = model(images)[\"res1\"]\n",
    "        else:\n",
    "            raise NotImplementedError\n",
    "    hw = img_features.shape[-2:]\n",
    "\n",
    "    img_features = einops.rearrange(img_features, 'b c h w -> b (h w) c')\n",
    "    img_features = linear(img_features)\n",
    "    img_features = einops.rearrange(img_features, 'b (h w) c -> b c h w', h=hw[0], w=hw[1])\n",
    "\n",
    "    img_features = F.interpolate(img_features, size=out_res, mode='bilinear', align_corners=False)\n",
    "    return img_features\n"
   ]
  },
  {
   "cell_type": "code",
   "execution_count": 5,
   "metadata": {},
   "outputs": [],
   "source": [
    "def compute_scene_features(vis_features, positions, query_embedding, query_position, rotary_embedder, re_cross_attn):\n",
    "    batch_size = vis_features.shape[0]\n",
    "    target_sequence_length = query_position.shape[1]\n",
    "    query = query_embedding.weight.unsqueeze(1).repeat(target_sequence_length, batch_size, 1)\n",
    "    query_rel_pe = rotary_embedder(query_position)\n",
    "\n",
    "    value = einops.rearrange(vis_features, 'b c h w -> (h w) b c')\n",
    "    value_pos = positions\n",
    "    value_pos = einops.rearrange(value_pos, 'b c h w -> b (w h) c')\n",
    "    value_rel_pe = rotary_embedder(value_pos)\n",
    "\n",
    "    scene_embedding = re_cross_attn(query=query, value=value, query_pos=query_rel_pe, value_pos=value_rel_pe)\n",
    "    return scene_embedding[-1]"
   ]
  },
  {
   "cell_type": "code",
   "execution_count": 6,
   "metadata": {},
   "outputs": [],
   "source": [
    "def get_positions(shape):\n",
    "    xy = torch.meshgrid([torch.linspace(0, 1, shape[0]), torch.linspace(0, 1, shape[1])])\n",
    "    xy = torch.stack(xy, dim=0).float()\n",
    "    return xy"
   ]
  },
  {
   "cell_type": "code",
   "execution_count": 16,
   "metadata": {},
   "outputs": [
    {
     "name": "stderr",
     "output_type": "stream",
     "text": [
      "Epoch: 100%|██████████| 1000/1000 [00:33<00:00, 29.44it/s, loss=3.39e-6]\n"
     ]
    }
   ],
   "source": [
    "from models.ema_model import EMAModel\n",
    "from diffusers.optimization import get_scheduler\n",
    "from policy.goal_diffusion_transformer_image import DiffusionTransformerImage\n",
    "\n",
    "num_epochs = 1000\n",
    "embedding_dim = 60\n",
    "action_dim = 2\n",
    "device = torch.device('cuda')\n",
    "num_diffusion_iters = 100\n",
    "noise_scheduler = DDPMScheduler(\n",
    "    num_train_timesteps=num_diffusion_iters,\n",
    "    # the choise of beta schedule has big impact on performance\n",
    "    # we found squared cosine works the best\n",
    "    beta_schedule='squaredcos_cap_v2',\n",
    "    # clip output to [-1,1] to improve stability\n",
    "    clip_sample=True,\n",
    "    # our network predicts noise (instead of denoised action)\n",
    "    prediction_type='epsilon'\n",
    ")\n",
    "model = DiffusionTransformerImage(action_dim=2,\n",
    "                                noise_scheduler=noise_scheduler,\n",
    "                                vis_backbone='clip',\n",
    "                                re_cross_attn_layer=4,\n",
    "                                re_cross_attn_num_heads=3,\n",
    "                                embedding_dim=embedding_dim,\n",
    "                                device='cuda')\n",
    "\n",
    "\n",
    "# ema_model = copy.deepcopy(model)\n",
    "# _ = model.to(device)\n",
    "# _ = ema_model.to(device)\n",
    "# ema = EMAModel(ema_model)\n",
    "\n",
    "\n",
    "optimizer = torch.optim.AdamW(\n",
    "    params=model.parameters(),\n",
    "    lr=1e-4, weight_decay=1e-6)\n",
    "\n",
    "lr_scheduler = get_scheduler(\n",
    "    name='cosine',\n",
    "    optimizer=optimizer,\n",
    "    num_warmup_steps=500,\n",
    "    num_training_steps=len(train_loader) * num_epochs\n",
    ")\n",
    "\n",
    "with tqdm(range(num_epochs), desc='Epoch') as tglobal:\n",
    "    losses = list()\n",
    "    for epoch_idx in tglobal:\n",
    "        epoch_loss = list()\n",
    "        # batch loop\n",
    "        with tqdm(train_loader, desc='Batch', leave=False) as tepoch:\n",
    "            for item in tepoch:\n",
    "                loss = model.compute_loss(item)\n",
    "                loss.backward()\n",
    "                optimizer.step()\n",
    "                optimizer.zero_grad()\n",
    "                # step lr scheduler every batch\n",
    "                # this is different from standard pytorch behavior\n",
    "                lr_scheduler.step()\n",
    "\n",
    "                # update Exponential Moving Average of the model weights\n",
    "                # ema.step(model)\n",
    "\n",
    "                # logging\n",
    "                loss_cpu = loss.item()\n",
    "                epoch_loss.append(loss_cpu)\n",
    "                tepoch.set_postfix(loss=loss_cpu)\n",
    "        epoch_loss = np.mean(epoch_loss)\n",
    "        losses.append(epoch_loss)\n",
    "        tglobal.set_postfix(loss=epoch_loss)\n",
    "\n",
    "# ema_model = ema.averaged_model"
   ]
  },
  {
   "cell_type": "code",
   "execution_count": 17,
   "metadata": {},
   "outputs": [
    {
     "data": {
      "image/png": "[encoded data removed]",
      "text/plain": [
       "<Figure size 640x480 with 1 Axes>"
      ]
     },
     "metadata": {},
     "output_type": "display_data"
    }
   ],
   "source": [
    "plt.plot(losses)\n",
    "plt.xlabel('Epochs')\n",
    "plt.ylabel('Loss')\n",
    "plt.title('Training loss')\n",
    "# plt.yscale('log')\n",
    "plt.show()"
   ]
  },
  {
   "cell_type": "code",
   "execution_count": 27,
   "metadata": {},
   "outputs": [
    {
     "name": "stdout",
     "output_type": "stream",
     "text": [
      "tensor([[256.0000, 256.0000,   0.7854]])\n"
     ]
    },
    {
     "data": {
      "image/png": "[encoded data removed]",
      "text/plain": [
       "<Figure size 2000x500 with 1 Axes>"
      ]
     },
     "metadata": {},
     "output_type": "display_data"
    }
   ],
   "source": [
    "item = next(iter(train_loader))\n",
    "item = {k: v[:1] for k, v in item.items()}\n",
    "print(item[\"goal_pose\"])\n",
    "loss = model.compute_loss(item)\n",
    "out = model.predict_action(item).cpu().detach().numpy()\n",
    "fig = plt.figure(figsize=(20, 5))\n",
    "for i, goal_pos_pred in enumerate(out[:9]):\n",
    "    agent_pos = item['agent_pos'][i]\n",
    "    goal_pos_pred_image = (agent_pos + goal_pos_pred) / 512.0 * 96.\n",
    "    goal_pos_image = item['goal_pose'][i] / 512.0 * 96.\n",
    "    ax = fig.add_subplot(3, 3, i + 1)\n",
    "    ax.imshow(item['rgb'][i].permute(1, 2, 0).cpu().numpy())\n",
    "    ax.scatter(goal_pos_image[0], goal_pos_image[1], c='r', label='ground truth')\n",
    "    ax.scatter(goal_pos_pred_image[0], goal_pos_pred_image[1], c='b', marker='x', label='predicted')\n",
    "    ax.legend()\n",
    "plt.show() "
   ]
  },
  {
   "cell_type": "code",
   "execution_count": 10,
   "metadata": {},
   "outputs": [
    {
     "data": {
      "image/png": "[encoded data removed]",
      "text/plain": [
       "<Figure size 2000x500 with 1 Axes>"
      ]
     },
     "metadata": {},
     "output_type": "display_data"
    }
   ],
   "source": [
    "item = next(iter(train_loader))\n",
    "item = {k: v[:1] for k, v in item.items()}\n",
    "model.eval()\n",
    "loss = model.compute_loss(item)\n",
    "out = model.predict_action(item).cpu().detach().numpy()\n",
    "fig = plt.figure(figsize=(20, 5))\n",
    "for i, goal_pos_pred in enumerate(out[:9]):\n",
    "    goal_pos_pred_image = goal_pos_pred / 512.0 * 96.\n",
    "    goal_pos_image = item['goal_pose'][i] / 512.0 * 96.\n",
    "    ax = fig.add_subplot(3, 3, i + 1)\n",
    "    ax.imshow(item['rgb'][i].permute(1, 2, 0).cpu().numpy())\n",
    "    ax.scatter(goal_pos_image[0], goal_pos_image[1], c='r', label='ground truth')\n",
    "    ax.scatter(goal_pos_pred_image[0], goal_pos_pred_image[1], c='b', marker='x', label='predicted')\n",
    "    ax.legend()\n",
    "plt.show() "
   ]
  },
  {
   "cell_type": "code",
   "execution_count": 11,
   "metadata": {},
   "outputs": [
    {
     "ename": "NameError",
     "evalue": "name 'B' is not defined",
     "output_type": "error",
     "traceback": [
      "\u001b[0;31m---------------------------------------------------------------------------\u001b[0m",
      "\u001b[0;31mNameError\u001b[0m                                 Traceback (most recent call last)",
      "Cell \u001b[0;32mIn[11], line 5\u001b[0m\n\u001b[1;32m      1\u001b[0m ema_nets \u001b[38;5;241m=\u001b[39m ema\u001b[38;5;241m.\u001b[39maveraged_model\n\u001b[1;32m      2\u001b[0m item \u001b[38;5;241m=\u001b[39m \u001b[38;5;28mnext\u001b[39m(\u001b[38;5;28miter\u001b[39m(train_loader))\n\u001b[1;32m      4\u001b[0m noisy_action \u001b[38;5;241m=\u001b[39m torch\u001b[38;5;241m.\u001b[39mrandn(\n\u001b[0;32m----> 5\u001b[0m     (\u001b[43mB\u001b[49m, action_dim), device\u001b[38;5;241m=\u001b[39mdevice)\n\u001b[1;32m      6\u001b[0m naction \u001b[38;5;241m=\u001b[39m noisy_action\n\u001b[1;32m      8\u001b[0m noise_scheduler\u001b[38;5;241m.\u001b[39mset_timesteps(num_inference_steps\u001b[38;5;241m=\u001b[39mnum_diffusion_iters, device\u001b[38;5;241m=\u001b[39mdevice)\n",
      "\u001b[0;31mNameError\u001b[0m: name 'B' is not defined"
     ]
    }
   ],
   "source": [
    "ema_nets = ema.averaged_model\n",
    "item = next(iter(train_loader))\n",
    "\n",
    "noisy_action = torch.randn(\n",
    "    (B, action_dim), device=device)\n",
    "naction = noisy_action\n",
    "\n",
    "noise_scheduler.set_timesteps(num_inference_steps=num_diffusion_iters, device=device)\n",
    "\n",
    "with torch.no_grad():\n",
    "    for k in noise_scheduler.timesteps:\n",
    "        noise_pred = ema_nets['noise_pred_net'](\n",
    "                            sample=naction,\n",
    "                            timestep=k,\n",
    "                            global_cond=scene_embedding\n",
    "                        )\n",
    "                        # inverse diffusion step (remove noise)\n",
    "        naction = noise_scheduler.step(\n",
    "            model_output=noise_pred,\n",
    "            timestep=k,\n",
    "            sample=naction\n",
    "        ).prev_sample\n",
    "\n",
    "naction = unnormalize_position(naction.cpu())[0]\n",
    "goal_pos_pred_image = (naction + item['agent_pos'][0]) / 512. * 96.\n",
    "goal_pos_image = item['goal_pose'][0] / 512. * 96.\n",
    "plt.imshow(item['rgb'][0].permute(1, 2, 0).cpu().numpy())\n",
    "plt.scatter(goal_pos_image[0], goal_pos_image[1], c='r', label='ground truth')\n",
    "plt.scatter(goal_pos_pred_image[0], goal_pos_pred_image[1], c='b', marker='x', label='predicted')\n",
    "plt.legend()\n",
    "plt.show() "
   ]
  }
 ],
 "metadata": {
  "kernelspec": {
   "display_name": "tshape",
   "language": "python",
   "name": "python3"
  },
  "language_info": {
   "codemirror_mode": {
    "name": "ipython",
    "version": 3
   },
   "file_extension": ".py",
   "mimetype": "text/x-python",
   "name": "python",
   "nbconvert_exporter": "python",
   "pygments_lexer": "ipython3",
   "version": "3.12.0"
  }
 },
 "nbformat": 4,
 "nbformat_minor": 2
}
